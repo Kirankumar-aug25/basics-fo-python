{
 "cells": [
  {
   "cell_type": "code",
   "execution_count": null,
   "id": "c5547ea9",
   "metadata": {},
   "outputs": [],
   "source": [
    "capitals = {\"USA\":\"Washington D.C.\", \"France\":\"Paris\", \"India\":\"New Delhi\"}\n",
    "capitals"
   ]
  },
  {
   "cell_type": "code",
   "execution_count": null,
   "id": "1e7c5efa",
   "metadata": {},
   "outputs": [],
   "source": []
  },
  {
   "cell_type": "code",
   "execution_count": null,
   "id": "9edd018f",
   "metadata": {},
   "outputs": [],
   "source": [
    "type(capitals)"
   ]
  },
  {
   "cell_type": "code",
   "execution_count": null,
   "id": "25a6bdb1",
   "metadata": {},
   "outputs": [],
   "source": [
    "capitals.get(\"India\")"
   ]
  },
  {
   "cell_type": "code",
   "execution_count": null,
   "id": "316b083f",
   "metadata": {},
   "outputs": [],
   "source": [
    "capitals[\"India\"]"
   ]
  },
  {
   "cell_type": "code",
   "execution_count": null,
   "id": "47217cee",
   "metadata": {},
   "outputs": [],
   "source": [
    "capitals[\"goa\"] = \"panji\""
   ]
  },
  {
   "cell_type": "code",
   "execution_count": null,
   "id": "0d2bc0de",
   "metadata": {},
   "outputs": [],
   "source": [
    "capitals"
   ]
  },
  {
   "cell_type": "code",
   "execution_count": null,
   "id": "ef0a8b2e",
   "metadata": {},
   "outputs": [],
   "source": [
    "capitals.pop(\"goa\")\n"
   ]
  },
  {
   "cell_type": "code",
   "execution_count": null,
   "id": "70bdb1e4",
   "metadata": {},
   "outputs": [],
   "source": [
    "capitals"
   ]
  },
  {
   "cell_type": "code",
   "execution_count": null,
   "id": "338caa1d",
   "metadata": {},
   "outputs": [],
   "source": [
    "del capitals[\"USA\"]"
   ]
  },
  {
   "cell_type": "code",
   "execution_count": null,
   "id": "6f7c5003",
   "metadata": {},
   "outputs": [],
   "source": [
    "capitals"
   ]
  },
  {
   "cell_type": "code",
   "execution_count": null,
   "id": "b2492080",
   "metadata": {},
   "outputs": [],
   "source": [
    "capitals.clear()"
   ]
  },
  {
   "cell_type": "code",
   "execution_count": null,
   "id": "12116605",
   "metadata": {},
   "outputs": [],
   "source": [
    "capitals"
   ]
  },
  {
   "cell_type": "code",
   "execution_count": null,
   "id": "941470de",
   "metadata": {},
   "outputs": [],
   "source": [
    "capitals = {\"USA\":\"Washington D.C.\", \"France\":\"Paris\", \"India\":\"New Delhi\"}"
   ]
  },
  {
   "cell_type": "code",
   "execution_count": null,
   "id": "f1ef1093",
   "metadata": {},
   "outputs": [],
   "source": [
    "CAPITALS = capitals.copy()"
   ]
  },
  {
   "cell_type": "code",
   "execution_count": null,
   "id": "d3de13df",
   "metadata": {},
   "outputs": [],
   "source": [
    "CAPITALS"
   ]
  },
  {
   "cell_type": "code",
   "execution_count": null,
   "id": "b1be2535",
   "metadata": {},
   "outputs": [],
   "source": [
    "child1 = {\"name\": \"kiran\", \"father\":\"ramesh\"}"
   ]
  },
  {
   "cell_type": "code",
   "execution_count": null,
   "id": "491fc362",
   "metadata": {},
   "outputs": [],
   "source": [
    "child1[\"name\"]"
   ]
  },
  {
   "cell_type": "code",
   "execution_count": null,
   "id": "11dfe31a",
   "metadata": {},
   "outputs": [],
   "source": [
    "child2 = {\"name\": \"ram\", \"father\":\"siva\"}"
   ]
  },
  {
   "cell_type": "code",
   "execution_count": null,
   "id": "9668513b",
   "metadata": {},
   "outputs": [],
   "source": [
    "child2"
   ]
  },
  {
   "cell_type": "code",
   "execution_count": null,
   "id": "1dec6bac",
   "metadata": {},
   "outputs": [],
   "source": [
    "    family = {\"child1\" :{\"name\": \"kiran\", \"father\":\"ramesh\"},\"child2\":{\"name\": \"ram\", \"father\":\"siva\"}}"
   ]
  },
  {
   "cell_type": "code",
   "execution_count": null,
   "id": "c9ae9ea0",
   "metadata": {},
   "outputs": [],
   "source": [
    "myfamily = {\n",
    "  \"child1\" : {\n",
    "    \"name\" : \"John\",\n",
    "    \"year\" : 1995,\n",
    "    \"hobbies\":[\"Music\",\"Cricket\",\"TV\"]\n",
    "  },\n",
    "  \"child2\" : {\n",
    "    \"name\" : \"Sammy\",\n",
    "    \"year\" : 2001\n",
    "  }\n",
    "}\n",
    "myfamily"
   ]
  },
  {
   "cell_type": "code",
   "execution_count": null,
   "id": "ddd2f50b",
   "metadata": {},
   "outputs": [],
   "source": [
    "myfamily[\"child2\"][\"name\"]"
   ]
  },
  {
   "cell_type": "code",
   "execution_count": null,
   "id": "d4bcb5db",
   "metadata": {},
   "outputs": [],
   "source": [
    "\n",
    "dict1 = { \n",
    "   \"april_batch\":{ \"student\":{ \"name\":\"Mike\",\"marks\":{ \"python\":80,\"maths\":70\n",
    "            \n",
    "            \n",
    "         \n",
    "         \n",
    "      \n",
    "         }\n",
    "      }\n",
    "   }\n",
    "}"
   ]
  },
  {
   "cell_type": "code",
   "execution_count": null,
   "id": "5cefde2d",
   "metadata": {},
   "outputs": [],
   "source": [
    "dict1[\"april_batch\"][\"student\"][\"name\"]"
   ]
  },
  {
   "cell_type": "code",
   "execution_count": null,
   "id": "fc103fbb",
   "metadata": {},
   "outputs": [],
   "source": [
    "dict1[\"april_batch\"][\"student\"][\"marks\"]"
   ]
  },
  {
   "cell_type": "code",
   "execution_count": null,
   "id": "40f098bb",
   "metadata": {},
   "outputs": [],
   "source": [
    "dict1[\"april_batch\"][\"student\"][\"marks\"][\"python\"]"
   ]
  },
  {
   "cell_type": "code",
   "execution_count": null,
   "id": "aeb0de8f",
   "metadata": {},
   "outputs": [],
   "source": []
  },
  {
   "cell_type": "code",
   "execution_count": null,
   "id": "b24bf7e5",
   "metadata": {},
   "outputs": [],
   "source": []
  }
 ],
 "metadata": {
  "kernelspec": {
   "display_name": "Python 3",
   "language": "python",
   "name": "python3"
  },
  "language_info": {
   "codemirror_mode": {
    "name": "ipython",
    "version": 3
   },
   "file_extension": ".py",
   "mimetype": "text/x-python",
   "name": "python",
   "nbconvert_exporter": "python",
   "pygments_lexer": "ipython3",
   "version": "3.8.8"
  }
 },
 "nbformat": 4,
 "nbformat_minor": 5
}
