{
 "cells": [
  {
   "cell_type": "code",
   "execution_count": 2,
   "id": "58e5bc3f",
   "metadata": {},
   "outputs": [],
   "source": [
    "#Basic Data types in Python\n",
    "#numbers\n",
    "#float\n",
    "#strings\n",
    "#bool\n",
    "#list\n",
    "#tuple\n",
    "#set\n",
    "#dictonary"
   ]
  },
  {
   "cell_type": "code",
   "execution_count": 5,
   "id": "db18a706",
   "metadata": {},
   "outputs": [
    {
     "name": "stdout",
     "output_type": "stream",
     "text": [
      "<class 'int'>\n",
      "<class 'int'>\n"
     ]
    }
   ],
   "source": [
    "#numbers \n",
    "print(type(4)), #all the whole number come under int\n",
    "print(type(-4))"
   ]
  },
  {
   "cell_type": "code",
   "execution_count": 6,
   "id": "c6bcd89d",
   "metadata": {},
   "outputs": [
    {
     "name": "stdout",
     "output_type": "stream",
     "text": [
      "<class 'float'>\n",
      "<class 'float'>\n"
     ]
    }
   ],
   "source": [
    "print(type(5.5)) #all the decimalnumber come under float\n",
    "print(type(-4.555))"
   ]
  },
  {
   "cell_type": "code",
   "execution_count": 15,
   "id": "cbc17427",
   "metadata": {},
   "outputs": [
    {
     "name": "stdout",
     "output_type": "stream",
     "text": [
      "<class 'str'>\n",
      "I am Learning \"python\"\n",
      "I am Learning 'python'\n"
     ]
    }
   ],
   "source": [
    "print(type(\"kiran\"))# Series of characters enclosed withing single or double quotes\n",
    "b = \"I am Learning \\\"python\\\"\"\n",
    "print(b)\n",
    "c = \"I am Learning 'python'\"\n",
    "print(c)\n"
   ]
  },
  {
   "cell_type": "code",
   "execution_count": 10,
   "id": "043adcd7",
   "metadata": {},
   "outputs": [
    {
     "data": {
      "text/plain": [
       "bool"
      ]
     },
     "execution_count": 10,
     "metadata": {},
     "output_type": "execute_result"
    }
   ],
   "source": [
    "a = True\n",
    "type(a) #bool"
   ]
  },
  {
   "cell_type": "code",
   "execution_count": 16,
   "id": "2deda047",
   "metadata": {},
   "outputs": [],
   "source": [
    "#indexing \n",
    "\n",
    "# k i r a n = 0 1 2 3 4 \n"
   ]
  },
  {
   "cell_type": "code",
   "execution_count": 17,
   "id": "94dee27b",
   "metadata": {},
   "outputs": [],
   "source": [
    "k = \"kiran kumar\""
   ]
  },
  {
   "cell_type": "code",
   "execution_count": 18,
   "id": "40a1c6cb",
   "metadata": {},
   "outputs": [
    {
     "data": {
      "text/plain": [
       "'kira'"
      ]
     },
     "execution_count": 18,
     "metadata": {},
     "output_type": "execute_result"
    }
   ],
   "source": [
    "k[0:4]"
   ]
  },
  {
   "cell_type": "code",
   "execution_count": 19,
   "id": "5b05036a",
   "metadata": {},
   "outputs": [
    {
     "data": {
      "text/plain": [
       "'kiran'"
      ]
     },
     "execution_count": 19,
     "metadata": {},
     "output_type": "execute_result"
    }
   ],
   "source": [
    "k[0:5]"
   ]
  },
  {
   "cell_type": "code",
   "execution_count": 20,
   "id": "3c77b1b0",
   "metadata": {},
   "outputs": [
    {
     "data": {
      "text/plain": [
       "'an'"
      ]
     },
     "execution_count": 20,
     "metadata": {},
     "output_type": "execute_result"
    }
   ],
   "source": [
    "k[3:5]"
   ]
  },
  {
   "cell_type": "code",
   "execution_count": 34,
   "id": "b5beba1d",
   "metadata": {},
   "outputs": [
    {
     "data": {
      "text/plain": [
       "'ramuk nari'"
      ]
     },
     "execution_count": 34,
     "metadata": {},
     "output_type": "execute_result"
    }
   ],
   "source": [
    "k[10:0:-1]"
   ]
  },
  {
   "cell_type": "code",
   "execution_count": 33,
   "id": "24f403ae",
   "metadata": {},
   "outputs": [
    {
     "data": {
      "text/plain": [
       "'rmknr'"
      ]
     },
     "execution_count": 33,
     "metadata": {},
     "output_type": "execute_result"
    }
   ],
   "source": [
    "k[10:0:-2]"
   ]
  },
  {
   "cell_type": "code",
   "execution_count": 35,
   "id": "d038a600",
   "metadata": {},
   "outputs": [
    {
     "data": {
      "text/plain": [
       "'kirankiran kumar'"
      ]
     },
     "execution_count": 35,
     "metadata": {},
     "output_type": "execute_result"
    }
   ],
   "source": [
    "#concatination\n",
    "f = \"kiran\"\n",
    "f + k"
   ]
  },
  {
   "cell_type": "code",
   "execution_count": 42,
   "id": "f2b82d4a",
   "metadata": {},
   "outputs": [
    {
     "name": "stdout",
     "output_type": "stream",
     "text": [
      "HELLO WORLD\n"
     ]
    }
   ],
   "source": [
    "#some of inbuilt methods\n",
    "# 1) .upper()\n",
    "a = 'hello world'\n",
    "print(a.upper())"
   ]
  },
  {
   "cell_type": "code",
   "execution_count": 43,
   "id": "35574b83",
   "metadata": {},
   "outputs": [
    {
     "name": "stdout",
     "output_type": "stream",
     "text": [
      "hello world\n"
     ]
    }
   ],
   "source": [
    "# 1) .lower()\n",
    "a = 'hello world'\n",
    "print(a.lower())"
   ]
  },
  {
   "cell_type": "code",
   "execution_count": 44,
   "id": "0916683f",
   "metadata": {},
   "outputs": [
    {
     "name": "stdout",
     "output_type": "stream",
     "text": [
      "hello world\n",
      "Hello world\n"
     ]
    }
   ],
   "source": [
    "print(a)\n",
    "print(a.capitalize())"
   ]
  },
  {
   "cell_type": "code",
   "execution_count": 45,
   "id": "41f0dfc2",
   "metadata": {},
   "outputs": [],
   "source": [
    "# task 1) go through some of the other in built functions\n",
    "\n",
    "# task 2) \n",
    "\n",
    "# given a string for example\n",
    "str1 = \"Welcome to python\"\n",
    "\n",
    "# check if \"to\" is present in \"welcome to python\""
   ]
  },
  {
   "cell_type": "code",
   "execution_count": 47,
   "id": "5fd596fb",
   "metadata": {},
   "outputs": [
    {
     "name": "stdout",
     "output_type": "stream",
     "text": [
      "no\n"
     ]
    }
   ],
   "source": [
    "str1 = \"Welcome to python\"\n",
    "\n",
    "if \"to\" in str1:\n",
    "    print(\"s\")\n",
    "else:\n",
    "    print(\"no\")"
   ]
  },
  {
   "cell_type": "code",
   "execution_count": 48,
   "id": "d261fd3d",
   "metadata": {},
   "outputs": [
    {
     "name": "stdout",
     "output_type": "stream",
     "text": [
      "no\n"
     ]
    }
   ],
   "source": [
    "str1 = \"Welcome to python\"\n",
    "\n",
    "if \"s\" in str1:\n",
    "    print(\"s\")\n",
    "else:\n",
    "    print(\"no\")"
   ]
  },
  {
   "cell_type": "code",
   "execution_count": 61,
   "id": "3f30575a",
   "metadata": {},
   "outputs": [
    {
     "data": {
      "text/plain": [
       "False"
      ]
     },
     "execution_count": 61,
     "metadata": {},
     "output_type": "execute_result"
    }
   ],
   "source": [
    "v=\"Hello world\"\n",
    "v.islower()"
   ]
  },
  {
   "cell_type": "code",
   "execution_count": 63,
   "id": "aa1a6110",
   "metadata": {},
   "outputs": [
    {
     "data": {
      "text/plain": [
       "'wELCOME TO PYTHON'"
      ]
     },
     "execution_count": 63,
     "metadata": {},
     "output_type": "execute_result"
    }
   ],
   "source": [
    "str1.swapcase()"
   ]
  },
  {
   "cell_type": "code",
   "execution_count": null,
   "id": "ad5a4b3c",
   "metadata": {},
   "outputs": [],
   "source": []
  }
 ],
 "metadata": {
  "kernelspec": {
   "display_name": "Python 3",
   "language": "python",
   "name": "python3"
  },
  "language_info": {
   "codemirror_mode": {
    "name": "ipython",
    "version": 3
   },
   "file_extension": ".py",
   "mimetype": "text/x-python",
   "name": "python",
   "nbconvert_exporter": "python",
   "pygments_lexer": "ipython3",
   "version": "3.8.8"
  }
 },
 "nbformat": 4,
 "nbformat_minor": 5
}
