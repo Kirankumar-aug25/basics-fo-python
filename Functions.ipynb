{
 "cells": [
  {
   "cell_type": "markdown",
   "id": "d4bbc23a",
   "metadata": {},
   "source": [
    "# FUNCTIONS\n",
    "Functions are the block of reusable code that will execute only when it is called."
   ]
  },
  {
   "cell_type": "markdown",
   "id": "477c3c08",
   "metadata": {},
   "source": [
    "# SYNTAX"
   ]
  },
  {
   "cell_type": "code",
   "execution_count": 17,
   "id": "c4940663",
   "metadata": {},
   "outputs": [],
   "source": [
    "\n",
    "#def function_name():\n",
    "    #statement 1\n",
    "    #statement 2\n",
    "    \n",
    "    #statement n\n"
   ]
  },
  {
   "cell_type": "code",
   "execution_count": 20,
   "id": "e7de43ca",
   "metadata": {},
   "outputs": [
    {
     "name": "stdout",
     "output_type": "stream",
     "text": [
      "hello\n",
      "I am a function\n",
      "I will execute only when i get called\n"
     ]
    }
   ],
   "source": [
    "# defining the function\n",
    "def my_func():\n",
    "    print(\"hello\")\n",
    "    print(\"I am a function\")\n",
    "    print(\"I will execute only when i get called\")\n",
    "my_func()"
   ]
  },
  {
   "cell_type": "code",
   "execution_count": 18,
   "id": "2e70640f",
   "metadata": {},
   "outputs": [
    {
     "name": "stdout",
     "output_type": "stream",
     "text": [
      "30\n"
     ]
    }
   ],
   "source": [
    "#Ex2) Adding two numbers\n",
    "def add():\n",
    "    x = 10\n",
    "    y = 20\n",
    "    z = x + y\n",
    "    print(z)\n",
    "add()"
   ]
  },
  {
   "cell_type": "markdown",
   "id": "6f14107b",
   "metadata": {},
   "source": [
    "###### Passing parameters/arguments to function"
   ]
  },
  {
   "cell_type": "code",
   "execution_count": 6,
   "id": "c99cdd41",
   "metadata": {},
   "outputs": [
    {
     "name": "stdout",
     "output_type": "stream",
     "text": [
      "30\n"
     ]
    }
   ],
   "source": [
    "#Ex1)you can pass numbers\n",
    "def add(x,y):\n",
    "    z = x + y\n",
    "    print(z)\n",
    "add(10,20)"
   ]
  },
  {
   "cell_type": "code",
   "execution_count": 8,
   "id": "24c5abdb",
   "metadata": {},
   "outputs": [
    {
     "name": "stdout",
     "output_type": "stream",
     "text": [
      "1\n",
      "2\n",
      "3\n",
      "4\n",
      "5\n"
     ]
    }
   ],
   "source": [
    "\n",
    "# Ex3) you can pass lists\n",
    "def func(list1):\n",
    "    for i in list1:\n",
    "        print(i)\n",
    "func([1,2,3,4,5])"
   ]
  },
  {
   "cell_type": "markdown",
   "id": "617961d1",
   "metadata": {},
   "source": [
    "#### return keyword\n",
    "1)return keyword can be used to return values from a function\n",
    "\n",
    "2)it can be used to end the execution of a function\n",
    "\n",
    "3)statements below return keyword will not get executed"
   ]
  },
  {
   "cell_type": "code",
   "execution_count": 9,
   "id": "11c648b5",
   "metadata": {},
   "outputs": [
    {
     "data": {
      "text/plain": [
       "40"
      ]
     },
     "execution_count": 9,
     "metadata": {},
     "output_type": "execute_result"
    }
   ],
   "source": [
    "# Ex1) returning sum\n",
    "def add(x,y):\n",
    "    z = x + y\n",
    "    return z\n",
    "    print(z) #will not be executed\n",
    "\n",
    "my_sum = add(10,20)\n",
    "my_sum + 10"
   ]
  },
  {
   "cell_type": "code",
   "execution_count": 10,
   "id": "01041b19",
   "metadata": {},
   "outputs": [
    {
     "data": {
      "text/plain": [
       "20"
      ]
     },
     "execution_count": 10,
     "metadata": {},
     "output_type": "execute_result"
    }
   ],
   "source": [
    "def product(x,y):\n",
    "    z = x * y\n",
    "    return z\n",
    "    print(z)\n",
    "\n",
    "my_num = product(10,2)\n",
    "my_num"
   ]
  },
  {
   "cell_type": "markdown",
   "id": "3dac1128",
   "metadata": {},
   "source": [
    "##### default values\n",
    "to initialize the parameters with default values in order to avoid the errors"
   ]
  },
  {
   "cell_type": "code",
   "execution_count": 11,
   "id": "b84bcd47",
   "metadata": {},
   "outputs": [],
   "source": [
    "\n",
    "#Without default values\n",
    "def add(x,y,z):\n",
    "    my_num = x + y + z\n",
    "    print(my_num)"
   ]
  },
  {
   "cell_type": "code",
   "execution_count": 12,
   "id": "41558478",
   "metadata": {},
   "outputs": [
    {
     "name": "stdout",
     "output_type": "stream",
     "text": [
      "60\n"
     ]
    }
   ],
   "source": [
    "# when value is passed\n",
    "add(10,20,30)"
   ]
  },
  {
   "cell_type": "code",
   "execution_count": 13,
   "id": "89b186dd",
   "metadata": {},
   "outputs": [
    {
     "name": "stdout",
     "output_type": "stream",
     "text": [
      "30\n"
     ]
    }
   ],
   "source": [
    "# With default values\n",
    "\n",
    "def add(x,y,z = 0): #z is initilized to 0 (default)\n",
    "    my_num = x + y + z\n",
    "    print(my_num)\n",
    "# when value is not passed\n",
    "add(10,20)"
   ]
  },
  {
   "cell_type": "code",
   "execution_count": 14,
   "id": "8ab80d50",
   "metadata": {},
   "outputs": [
    {
     "name": "stdout",
     "output_type": "stream",
     "text": [
      "60\n"
     ]
    }
   ],
   "source": [
    "#when value is passed\n",
    "add(10,20,30)"
   ]
  },
  {
   "cell_type": "markdown",
   "id": "e15a5707",
   "metadata": {},
   "source": [
    "#### Recursion or Recursive Function :\n",
    "A function calling itself\n",
    "Possibility of infinite execution. Always handle this scenario"
   ]
  },
  {
   "cell_type": "code",
   "execution_count": 15,
   "id": "44ad6ac8",
   "metadata": {},
   "outputs": [],
   "source": [
    "# Printing Hello for 5 times using recursion\n",
    "def my_func(num):\n",
    "    num = num + 1\n",
    "    if(num>5):\n",
    "        return\n",
    "    else:\n",
    "        print(\"Hello\")\n",
    "        my_func(num)"
   ]
  },
  {
   "cell_type": "code",
   "execution_count": 16,
   "id": "a9402764",
   "metadata": {},
   "outputs": [],
   "source": [
    "# Printing Hello for 5 times using recursion\n",
    "def my_func(num):\n",
    "    num = num + 1\n",
    "    if(num>5):\n",
    "        return\n",
    "    else:\n",
    "        print(\"Hello\")\n",
    "        my_func(num)"
   ]
  },
  {
   "cell_type": "markdown",
   "id": "f0b9c57b",
   "metadata": {},
   "source": [
    "##### Task 11.1\n",
    "\n",
    "Explain Return keyword with example.\n",
    "\n"
   ]
  },
  {
   "cell_type": "markdown",
   "id": "ba98d493",
   "metadata": {},
   "source": [
    "###### Task11.2\n",
    "\n",
    "Ask 2 numbers from users and store it in num1 and num2\n",
    "\n",
    "Ask user to press 1 for addition,2 for subtraction,3 for multiplication and 4 for division\n",
    "\n",
    "create 4 seperate functions for each operation (i.e. addition,subtraction,multiplication and division)\n",
    "\n",
    "based on number given by user,call that perticular function and print the output"
   ]
  },
  {
   "cell_type": "code",
   "execution_count": null,
   "id": "6041227c",
   "metadata": {},
   "outputs": [],
   "source": []
  }
 ],
 "metadata": {
  "kernelspec": {
   "display_name": "Python 3",
   "language": "python",
   "name": "python3"
  },
  "language_info": {
   "codemirror_mode": {
    "name": "ipython",
    "version": 3
   },
   "file_extension": ".py",
   "mimetype": "text/x-python",
   "name": "python",
   "nbconvert_exporter": "python",
   "pygments_lexer": "ipython3",
   "version": "3.8.8"
  }
 },
 "nbformat": 4,
 "nbformat_minor": 5
}
