{
 "cells": [
  {
   "cell_type": "code",
   "execution_count": 1,
   "id": "359e05b9",
   "metadata": {},
   "outputs": [],
   "source": [
    "#the purpose of the loop is to execute a block of code for a finite or infinte repitions.\n",
    "#basically two types of loops \n",
    "#1.for loop.\n",
    "#2 while loopA "
   ]
  },
  {
   "cell_type": "code",
   "execution_count": 3,
   "id": "d3d46a89",
   "metadata": {},
   "outputs": [
    {
     "name": "stdout",
     "output_type": "stream",
     "text": [
      "0\n",
      "1\n",
      "2\n",
      "3\n",
      "4\n",
      "5\n",
      "6\n",
      "7\n",
      "8\n",
      "9\n"
     ]
    }
   ],
   "source": [
    "#\"For\" Loop is used to repeat a specific block of code a known number of times.(fintie number of repitions).\n",
    "#For loops are basically used to loop over a sequence\n",
    "# Sequence can be anything like strings,Lists,Tuples,Dictionaries,Sets etc\n",
    "for i in range(0,10):\n",
    "    print(i)"
   ]
  },
  {
   "cell_type": "code",
   "execution_count": 6,
   "id": "5b22c946",
   "metadata": {},
   "outputs": [
    {
     "name": "stdout",
     "output_type": "stream",
     "text": [
      "w\n",
      "e\n",
      "l\n",
      "c\n",
      "o\n",
      "m\n",
      "e\n",
      " \n",
      "s\n",
      "o\n",
      " \n",
      "p\n",
      "y\n",
      "s\n",
      "h\n",
      "o\n",
      "n\n"
     ]
    }
   ],
   "source": [
    "statement = \"welcome to python\"\n",
    "\n",
    "for i in statement:\n",
    "    if i == \"t\":\n",
    "        print(\"s\")\n",
    "    else:\n",
    "        print(i)"
   ]
  },
  {
   "cell_type": "code",
   "execution_count": 11,
   "id": "f7431792",
   "metadata": {},
   "outputs": [
    {
     "name": "stdout",
     "output_type": "stream",
     "text": [
      "1\n",
      "2\n",
      "3\n",
      "4\n",
      "5\n"
     ]
    }
   ],
   "source": [
    "# looping over lists\n",
    "\n",
    "list1 = [1,2,3,4,5]\n",
    "\n",
    "for item in list1:\n",
    "    print(item)"
   ]
  },
  {
   "cell_type": "code",
   "execution_count": 12,
   "id": "103d0d2a",
   "metadata": {},
   "outputs": [],
   "source": [
    "#range(start,stop,step)\n",
    "#The range() function is used to generate a sequence of numbers over time"
   ]
  },
  {
   "cell_type": "code",
   "execution_count": 17,
   "id": "416f82f2",
   "metadata": {},
   "outputs": [
    {
     "name": "stdout",
     "output_type": "stream",
     "text": [
      "0\n",
      "2\n",
      "4\n",
      "6\n",
      "8\n"
     ]
    }
   ],
   "source": [
    "for i in range(0,10,2):\n",
    "    print(i)"
   ]
  },
  {
   "cell_type": "code",
   "execution_count": 18,
   "id": "6667d6f2",
   "metadata": {},
   "outputs": [
    {
     "name": "stdout",
     "output_type": "stream",
     "text": [
      "10\n",
      "8\n",
      "6\n",
      "4\n",
      "2\n"
     ]
    }
   ],
   "source": [
    "for i in range(10,0,-2):\n",
    "    print(i)"
   ]
  },
  {
   "cell_type": "code",
   "execution_count": 35,
   "id": "3b305a1f",
   "metadata": {},
   "outputs": [
    {
     "name": "stdout",
     "output_type": "stream",
     "text": [
      "10\n",
      "9\n",
      "8\n",
      "7\n",
      "6\n",
      "5\n",
      "4\n",
      "3\n",
      "2\n",
      "1\n"
     ]
    }
   ],
   "source": [
    "#task print 10 t0 1 using while loop?\n",
    "count = 10\n",
    "while(count>0):\n",
    "    print(count)\n",
    "    count = count -1"
   ]
  },
  {
   "cell_type": "code",
   "execution_count": 28,
   "id": "118b582c",
   "metadata": {},
   "outputs": [
    {
     "data": {
      "text/plain": [
       "tuple"
      ]
     },
     "execution_count": 28,
     "metadata": {},
     "output_type": "execute_result"
    }
   ],
   "source": [
    "tup1 = (1,2,3,4,5,6)\n",
    "type(tup1)"
   ]
  },
  {
   "cell_type": "code",
   "execution_count": 27,
   "id": "15acf33a",
   "metadata": {},
   "outputs": [
    {
     "name": "stdout",
     "output_type": "stream",
     "text": [
      "1\n",
      "2\n",
      "3\n",
      "4\n",
      "5\n",
      "6\n"
     ]
    }
   ],
   "source": [
    "for i in range(0,6):\n",
    "    print(tup1[i])"
   ]
  },
  {
   "cell_type": "code",
   "execution_count": 29,
   "id": "29c39ee5",
   "metadata": {},
   "outputs": [],
   "source": [
    "#Task 10.1 = what is the uasge of continue wiith an example.\n",
    "#Task 10.2 What is pass keyword, with example."
   ]
  },
  {
   "cell_type": "code",
   "execution_count": 32,
   "id": "79ce2c4a",
   "metadata": {},
   "outputs": [
    {
     "name": "stdout",
     "output_type": "stream",
     "text": [
      "0\n",
      "1\n",
      "2\n",
      "3\n",
      "4\n"
     ]
    }
   ],
   "source": [
    "#break \n",
    "for i in range(0,10):\n",
    "    if i == 5:\n",
    "        break\n",
    "    print(i)"
   ]
  },
  {
   "cell_type": "code",
   "execution_count": 33,
   "id": "ce4ea5ab",
   "metadata": {},
   "outputs": [
    {
     "name": "stdout",
     "output_type": "stream",
     "text": [
      "0\n",
      "1\n",
      "2\n",
      "3\n",
      "4\n",
      "6\n",
      "7\n",
      "8\n",
      "9\n"
     ]
    }
   ],
   "source": [
    "for i in range(0,10):\n",
    "    if i == 5:\n",
    "        continue\n",
    "    print(i)"
   ]
  },
  {
   "cell_type": "code",
   "execution_count": 34,
   "id": "ab63631c",
   "metadata": {},
   "outputs": [
    {
     "name": "stdout",
     "output_type": "stream",
     "text": [
      "0\n",
      "1\n",
      "2\n",
      "3\n",
      "4\n",
      "5\n",
      "6\n",
      "7\n",
      "8\n",
      "9\n"
     ]
    }
   ],
   "source": [
    "for i in range(0,10):\n",
    "    if i == 5:\n",
    "       pass\n",
    "    print(i)"
   ]
  },
  {
   "cell_type": "code",
   "execution_count": null,
   "id": "85c5943c",
   "metadata": {},
   "outputs": [],
   "source": []
  }
 ],
 "metadata": {
  "kernelspec": {
   "display_name": "Python 3",
   "language": "python",
   "name": "python3"
  },
  "language_info": {
   "codemirror_mode": {
    "name": "ipython",
    "version": 3
   },
   "file_extension": ".py",
   "mimetype": "text/x-python",
   "name": "python",
   "nbconvert_exporter": "python",
   "pygments_lexer": "ipython3",
   "version": "3.8.8"
  }
 },
 "nbformat": 4,
 "nbformat_minor": 5
}
