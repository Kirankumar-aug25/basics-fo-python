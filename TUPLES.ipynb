{
 "cells": [
  {
   "cell_type": "code",
   "execution_count": 1,
   "id": "0cdcf64b",
   "metadata": {},
   "outputs": [],
   "source": [
    "tup1 = (1,2,3,4.4,5.5,True,False,\"Maths\",\"Python\")"
   ]
  },
  {
   "cell_type": "code",
   "execution_count": 2,
   "id": "669f92eb",
   "metadata": {},
   "outputs": [
    {
     "data": {
      "text/plain": [
       "1"
      ]
     },
     "execution_count": 2,
     "metadata": {},
     "output_type": "execute_result"
    }
   ],
   "source": [
    "tup1[0]"
   ]
  },
  {
   "cell_type": "code",
   "execution_count": 3,
   "id": "eb5b086f",
   "metadata": {},
   "outputs": [],
   "source": [
    "tup3 = (\"Python\")"
   ]
  },
  {
   "cell_type": "code",
   "execution_count": 4,
   "id": "ce289f79",
   "metadata": {},
   "outputs": [
    {
     "data": {
      "text/plain": [
       "str"
      ]
     },
     "execution_count": 4,
     "metadata": {},
     "output_type": "execute_result"
    }
   ],
   "source": [
    "type(tup3)"
   ]
  },
  {
   "cell_type": "code",
   "execution_count": 5,
   "id": "3ecbcbff",
   "metadata": {},
   "outputs": [
    {
     "data": {
      "text/plain": [
       "tuple"
      ]
     },
     "execution_count": 5,
     "metadata": {},
     "output_type": "execute_result"
    }
   ],
   "source": [
    "tup3 = (\"Python\",)\n",
    "type(tup3)"
   ]
  },
  {
   "cell_type": "code",
   "execution_count": 6,
   "id": "3243ce10",
   "metadata": {},
   "outputs": [],
   "source": [
    "#Indexing\n",
    "#Indexing starts from 0(zero)."
   ]
  },
  {
   "cell_type": "code",
   "execution_count": 7,
   "id": "ef1ddca2",
   "metadata": {},
   "outputs": [],
   "source": [
    "tup1 = (1,2,3,4.5,5.5,True,False,\"Maths\",\"Python\")"
   ]
  },
  {
   "cell_type": "code",
   "execution_count": 8,
   "id": "1b66283c",
   "metadata": {},
   "outputs": [
    {
     "data": {
      "text/plain": [
       "False"
      ]
     },
     "execution_count": 8,
     "metadata": {},
     "output_type": "execute_result"
    }
   ],
   "source": [
    "tup1[6]"
   ]
  },
  {
   "cell_type": "code",
   "execution_count": 9,
   "id": "8e1ca034",
   "metadata": {},
   "outputs": [],
   "source": [
    "#Slicing\n",
    "# [start:stop:step]\n",
    "\n",
    "# start = starting position (default value is 0)\n",
    "# stop = end position(exclusive) (default value is end position)\n",
    "# step = step size or increment size (default value is 1)"
   ]
  },
  {
   "cell_type": "code",
   "execution_count": 10,
   "id": "6b2e6548",
   "metadata": {},
   "outputs": [
    {
     "data": {
      "text/plain": [
       "(5.5, True)"
      ]
     },
     "execution_count": 10,
     "metadata": {},
     "output_type": "execute_result"
    }
   ],
   "source": [
    "tup1[4:6]"
   ]
  },
  {
   "cell_type": "code",
   "execution_count": 11,
   "id": "709affb9",
   "metadata": {},
   "outputs": [
    {
     "ename": "AttributeError",
     "evalue": "'tuple' object has no attribute 'pop'",
     "output_type": "error",
     "traceback": [
      "\u001b[1;31m---------------------------------------------------------------------------\u001b[0m",
      "\u001b[1;31mAttributeError\u001b[0m                            Traceback (most recent call last)",
      "\u001b[1;32m<ipython-input-11-0e90f14e232e>\u001b[0m in \u001b[0;36m<module>\u001b[1;34m\u001b[0m\n\u001b[0;32m      1\u001b[0m \u001b[1;31m# remove\u001b[0m\u001b[1;33m\u001b[0m\u001b[1;33m\u001b[0m\u001b[1;33m\u001b[0m\u001b[0m\n\u001b[1;32m----> 2\u001b[1;33m \u001b[0mtup1\u001b[0m\u001b[1;33m.\u001b[0m\u001b[0mpop\u001b[0m\u001b[1;33m(\u001b[0m\u001b[1;33m)\u001b[0m\u001b[1;33m\u001b[0m\u001b[1;33m\u001b[0m\u001b[0m\n\u001b[0m",
      "\u001b[1;31mAttributeError\u001b[0m: 'tuple' object has no attribute 'pop'"
     ]
    }
   ],
   "source": [
    "# remove \n",
    "tup1.pop()"
   ]
  },
  {
   "cell_type": "code",
   "execution_count": null,
   "id": "62796b59",
   "metadata": {},
   "outputs": [],
   "source": [
    "tup1[0] = 100"
   ]
  },
  {
   "cell_type": "code",
   "execution_count": 12,
   "id": "b2580189",
   "metadata": {},
   "outputs": [
    {
     "data": {
      "text/plain": [
       "[1, 2, 3, 4.5, 5.5, True, False, 'Maths', 'Python']"
      ]
     },
     "execution_count": 12,
     "metadata": {},
     "output_type": "execute_result"
    }
   ],
   "source": [
    "#workaround to modify the values\n",
    "\n",
    "list1 = list(tup1)\n",
    "list1"
   ]
  },
  {
   "cell_type": "code",
   "execution_count": null,
   "id": "3b06dbad",
   "metadata": {},
   "outputs": [],
   "source": [
    "list1[0]=100"
   ]
  },
  {
   "cell_type": "code",
   "execution_count": null,
   "id": "d23bd7f8",
   "metadata": {},
   "outputs": [],
   "source": [
    "list"
   ]
  },
  {
   "cell_type": "code",
   "execution_count": null,
   "id": "605d2edd",
   "metadata": {},
   "outputs": [],
   "source": [
    "tup1 = tuple(list)"
   ]
  },
  {
   "cell_type": "code",
   "execution_count": null,
   "id": "8c9165c7",
   "metadata": {},
   "outputs": [],
   "source": [
    "tup1"
   ]
  },
  {
   "cell_type": "code",
   "execution_count": null,
   "id": "f60da2d4",
   "metadata": {},
   "outputs": [],
   "source": [
    "#To check a perticular value is present\n",
    "print(100 in tup1)"
   ]
  },
  {
   "cell_type": "code",
   "execution_count": null,
   "id": "a8e5b65e",
   "metadata": {},
   "outputs": [],
   "source": [
    "tup1.count(100)# how many time it is repeated"
   ]
  },
  {
   "cell_type": "code",
   "execution_count": 15,
   "id": "11671b93",
   "metadata": {},
   "outputs": [],
   "source": [
    "kiran = ( \"friends\",\"family\",4,4,1)"
   ]
  },
  {
   "cell_type": "code",
   "execution_count": 16,
   "id": "2d99e255",
   "metadata": {},
   "outputs": [],
   "source": [
    "new = list(kiran)"
   ]
  },
  {
   "cell_type": "code",
   "execution_count": 17,
   "id": "92385839",
   "metadata": {},
   "outputs": [
    {
     "data": {
      "text/plain": [
       "['friends', 'family', 4, 4, 1]"
      ]
     },
     "execution_count": 17,
     "metadata": {},
     "output_type": "execute_result"
    }
   ],
   "source": [
    "new"
   ]
  },
  {
   "cell_type": "code",
   "execution_count": 18,
   "id": "d06fcea7",
   "metadata": {},
   "outputs": [],
   "source": [
    "new[0]=\"lover\""
   ]
  },
  {
   "cell_type": "code",
   "execution_count": 19,
   "id": "ff797829",
   "metadata": {},
   "outputs": [
    {
     "data": {
      "text/plain": [
       "['lover', 'family', 4, 4, 1]"
      ]
     },
     "execution_count": 19,
     "metadata": {},
     "output_type": "execute_result"
    }
   ],
   "source": [
    "new"
   ]
  },
  {
   "cell_type": "code",
   "execution_count": 20,
   "id": "e6e70ede",
   "metadata": {},
   "outputs": [],
   "source": [
    "new1 = tuple(new)"
   ]
  },
  {
   "cell_type": "code",
   "execution_count": 21,
   "id": "5e12537b",
   "metadata": {},
   "outputs": [
    {
     "data": {
      "text/plain": [
       "('lover', 'family', 4, 4, 1)"
      ]
     },
     "execution_count": 21,
     "metadata": {},
     "output_type": "execute_result"
    }
   ],
   "source": [
    "new1"
   ]
  },
  {
   "cell_type": "code",
   "execution_count": null,
   "id": "f171c8a1",
   "metadata": {},
   "outputs": [],
   "source": []
  }
 ],
 "metadata": {
  "kernelspec": {
   "display_name": "Python 3",
   "language": "python",
   "name": "python3"
  },
  "language_info": {
   "codemirror_mode": {
    "name": "ipython",
    "version": 3
   },
   "file_extension": ".py",
   "mimetype": "text/x-python",
   "name": "python",
   "nbconvert_exporter": "python",
   "pygments_lexer": "ipython3",
   "version": "3.8.8"
  }
 },
 "nbformat": 4,
 "nbformat_minor": 5
}
