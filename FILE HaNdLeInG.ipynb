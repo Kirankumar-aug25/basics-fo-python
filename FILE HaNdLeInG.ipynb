{
 "cells": [
  {
   "cell_type": "markdown",
   "id": "36f94525",
   "metadata": {},
   "source": [
    "##### Exception Handling\n",
    "Errors/Exceptions are bound to occur in any programming language\n",
    "Whenever Error/Exception happens the program will abruptly terminate\n",
    "We need to handle the Exceptions\n",
    "In python we use try,except,finally blocks to handle the exception\n",
    "In python there are two types of errors\n",
    "1) Syntax errors / parsing errors\n",
    "\n",
    "2) Exceptions\n",
    "\n",
    "\n",
    "Syntax Errors:\n",
    "As the name suggest, these error occurs when there is error in syntax\n",
    "cannot be handled"
   ]
  },
  {
   "cell_type": "code",
   "execution_count": 2,
   "id": "5cf18e28",
   "metadata": {},
   "outputs": [
    {
     "ename": "SyntaxError",
     "evalue": "invalid syntax (<ipython-input-2-af5a0dab7d96>, line 1)",
     "output_type": "error",
     "traceback": [
      "\u001b[1;36m  File \u001b[1;32m\"<ipython-input-2-af5a0dab7d96>\"\u001b[1;36m, line \u001b[1;32m1\u001b[0m\n\u001b[1;33m    if(4>2)\u001b[0m\n\u001b[1;37m           ^\u001b[0m\n\u001b[1;31mSyntaxError\u001b[0m\u001b[1;31m:\u001b[0m invalid syntax\n"
     ]
    }
   ],
   "source": [
    "if(4>2)\n",
    "    print('A')"
   ]
  },
  {
   "cell_type": "code",
   "execution_count": 3,
   "id": "8fd99424",
   "metadata": {},
   "outputs": [
    {
     "ename": "SyntaxError",
     "evalue": "invalid syntax (<ipython-input-3-75a9bd17b312>, line 3)",
     "output_type": "error",
     "traceback": [
      "\u001b[1;36m  File \u001b[1;32m\"<ipython-input-3-75a9bd17b312>\"\u001b[1;36m, line \u001b[1;32m3\u001b[0m\n\u001b[1;33m    if(4>2)\u001b[0m\n\u001b[1;37m           ^\u001b[0m\n\u001b[1;31mSyntaxError\u001b[0m\u001b[1;31m:\u001b[0m invalid syntax\n"
     ]
    }
   ],
   "source": [
    "\n",
    "# Cannot be handled using try except\n",
    "try:\n",
    "    if(4>2)\n",
    "        print('A')\n",
    "except:\n",
    "    print(\"Exception\")"
   ]
  },
  {
   "cell_type": "markdown",
   "id": "b795014a",
   "metadata": {},
   "source": [
    "###### Exceptions\n",
    "any error other than sytax errors are called as exception\n",
    "Exceptions can be handled"
   ]
  },
  {
   "cell_type": "code",
   "execution_count": null,
   "id": "c3739514",
   "metadata": {},
   "outputs": [],
   "source": [
    "print(\"hello world\")\n",
    "print(name)\n",
    "print('Welcome to exception handling')\n",
    "print('Thank you')"
   ]
  },
  {
   "cell_type": "markdown",
   "id": "8a44a1f5",
   "metadata": {},
   "source": [
    "# try:\n",
    "try block will check if there are any exceptions in our code.\n",
    "\n",
    "If there are exception, then it will pass the control to except block\n",
    "\n",
    "If there is no exception then it will not do anything"
   ]
  },
  {
   "cell_type": "code",
   "execution_count": null,
   "id": "fce26b31",
   "metadata": {},
   "outputs": [],
   "source": [
    "print(\"hello world\")\n",
    "\n",
    "try:\n",
    "    print(name)\n",
    "except:\n",
    "    print(\"Name variable is not defined\")\n",
    "      \n",
    "print('Welcome to exception handling')\n",
    "print('Thank you')"
   ]
  },
  {
   "cell_type": "code",
   "execution_count": null,
   "id": "4befa635",
   "metadata": {},
   "outputs": [],
   "source": [
    "#without try except\n",
    "list1 = [1,2,3,4,5]\n",
    "#without try except\n",
    "index = 6\n",
    "elem = list1[index]\n",
    "print('element = ',elem)"
   ]
  },
  {
   "cell_type": "code",
   "execution_count": null,
   "id": "1202d5ed",
   "metadata": {},
   "outputs": [],
   "source": [
    "#with try except\n",
    "try:\n",
    "    index = 6\n",
    "    elem = list1[index]\n",
    "    print('element = ',elem)\n",
    "except:\n",
    "    print('Invalid index')"
   ]
  },
  {
   "cell_type": "markdown",
   "id": "455e064c",
   "metadata": {},
   "source": [
    "#### finally:\n",
    "No matter if the exception occurs or not this block will compulsorily get executed"
   ]
  },
  {
   "cell_type": "raw",
   "id": "ed4b6423",
   "metadata": {},
   "source": [
    "\n",
    "\"\"\"\n",
    "syntax ---->\n",
    "\n",
    "try:\n",
    "    statement1\n",
    "    statement2\n",
    "    .......\n",
    "except:\n",
    "    statement1\n",
    "    statement2\n",
    "    .......\n",
    "finally:\n",
    "    statement1\n",
    "    statement2\n",
    "    .......\n",
    "\"\"\""
   ]
  },
  {
   "cell_type": "markdown",
   "id": "9a6261ab",
   "metadata": {},
   "source": [
    "# else:\n",
    "You can also use else block along with try except\n",
    "\n",
    "else block will get execute only if there is no exception\n",
    "\n",
    "it should be placed after the except block and before the finally block"
   ]
  },
  {
   "cell_type": "code",
   "execution_count": null,
   "id": "feec03ff",
   "metadata": {},
   "outputs": [],
   "source": [
    "\n",
    "try:\n",
    "    index = 6\n",
    "    elem = list1[index]\n",
    "    print('element = ',elem)\n",
    "except:\n",
    "    print('Invalid index')\n",
    "else:\n",
    "    print('No exception')\n",
    "finally:\n",
    "    print(\"End of program\")"
   ]
  },
  {
   "cell_type": "markdown",
   "id": "886813b9",
   "metadata": {},
   "source": [
    "#### Excepting multiple errors"
   ]
  },
  {
   "cell_type": "markdown",
   "id": "1d800560",
   "metadata": {},
   "source": [
    "## Ex 5.1 : Dividing two numbers without try except blocks"
   ]
  },
  {
   "cell_type": "code",
   "execution_count": null,
   "id": "2b012cbf",
   "metadata": {},
   "outputs": [],
   "source": [
    "\n",
    "print(\"start of the program\")\n",
    "\n",
    "num1 = int(input(\"Enter the numerator : \"))\n",
    "num2 = int(input(\"Enter the denominator : \"))\n",
    "\n",
    "print('Numerator = {} , Denominator = {}'.format(num1,num2))\n",
    "\n",
    "result = num1/num2\n",
    "\n",
    "print(\"result = \",result)\n",
    "print(\"End of program\")"
   ]
  },
  {
   "cell_type": "raw",
   "id": "62a764bb",
   "metadata": {},
   "source": [
    "#### Ex 5.2 : Dividing two numbers with only one except block"
   ]
  },
  {
   "cell_type": "code",
   "execution_count": null,
   "id": "7b3bfbbe",
   "metadata": {},
   "outputs": [
    {
     "name": "stdout",
     "output_type": "stream",
     "text": [
      "start of the program\n"
     ]
    }
   ],
   "source": [
    "print(\"start of the program\")\n",
    "\n",
    "try:\n",
    "    num1 = int(input(\"Enter the numerator : \"))\n",
    "    num2 = int(input(\"Enter the denominator : \"))\n",
    "\n",
    "    print('Numerator = {} , Denominator = {}'.format(num1,num2))\n",
    "\n",
    "    result = num1/num2\n",
    "    print(\"result = \",result)\n",
    "except:\n",
    "    print(\"Something went wrong\")\n",
    "finally:\n",
    "    print(\"End of program\")"
   ]
  },
  {
   "cell_type": "raw",
   "id": "e341f793",
   "metadata": {},
   "source": []
  }
 ],
 "metadata": {
  "kernelspec": {
   "display_name": "Python 3",
   "language": "python",
   "name": "python3"
  }
 },
 "nbformat": 4,
 "nbformat_minor": 5
}
