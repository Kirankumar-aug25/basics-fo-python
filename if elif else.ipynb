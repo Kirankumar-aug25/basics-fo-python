{
 "cells": [
  {
   "cell_type": "code",
   "execution_count": null,
   "id": "3c873f69",
   "metadata": {},
   "outputs": [],
   "source": [
    "#The if-else statement is used to execute both the true part and the false part of a given condition. \n",
    "#If the condition is true, the if block code is executed and if the condition is false, the else block code is executed"
   ]
  },
  {
   "cell_type": "code",
   "execution_count": null,
   "id": "fd7ba40e",
   "metadata": {},
   "outputs": [],
   "source": [
    "#syntax\n",
    "i = 20; \n",
    "if (i < 15):#condition \n",
    "    #expression\n",
    "    print (\"i is smaller than 15\") \n",
    "    print (\"i'm in if Block\") \n",
    "else: \n",
    "    print (\"i is greater than 15\") \n",
    "    print (\"i'm in else Block\") \n",
    "print (\"i'm not in if and not in else Block\") "
   ]
  },
  {
   "cell_type": "code",
   "execution_count": null,
   "id": "54afc341",
   "metadata": {},
   "outputs": [],
   "source": [
    "#indentation:\n",
    "\n",
    "#nested if else:\n",
    "  \n",
    "i = 13\n",
    "  \n",
    "if (i == 13): \n",
    "     \n",
    "    if (i < 15): \n",
    "        print (\"i is smaller than 15\") \n",
    "          \n",
    "  \n",
    "    if (i < 12): \n",
    "        print (\"i is smaller than 12 too\") \n",
    "    else: \n",
    "        print (\"i is greater than 12 and smaller than 15\")\n",
    "else:\n",
    "    print(i)\n"
   ]
  },
  {
   "cell_type": "code",
   "execution_count": null,
   "id": "a2d5adea",
   "metadata": {},
   "outputs": [],
   "source": [
    "#if elif else\n",
    "\n",
    "num1 = 10\n",
    "num2 = 13\n",
    "\n",
    "if(num1 == num2):\n",
    "    print(\"Equal\")\n",
    "elif(num1>num2):\n",
    "    print('num1 is greater than num2')\n",
    "    \n",
    "else:\n",
    "    print('num1 is less than num2')"
   ]
  },
  {
   "cell_type": "code",
   "execution_count": null,
   "id": "fed6b683",
   "metadata": {},
   "outputs": [],
   "source": [
    "#Ask 2 numbers from users and store it in num1 and num2\n",
    "#Ask user to press 1 for addition,2 for subtraction,3 for multiplication and 4 for division\n",
    "#based on number given by user do the math operation\n"
   ]
  },
  {
   "cell_type": "code",
   "execution_count": 4,
   "id": "359ea0f0",
   "metadata": {},
   "outputs": [
    {
     "name": "stdout",
     "output_type": "stream",
     "text": [
      "enter the num155\n",
      "enter the num255\n",
      "enter the operation4\n",
      "1\n"
     ]
    }
   ],
   "source": [
    "num1 = int(input(\"enter the num1\"))\n",
    "num2 = int(input(\"enter the num2\"))\n",
    "math_operation = int(input(\"enter the operation\"))\n",
    "if(math_operation == 1) :\n",
    "    print(num1+num2)\n",
    "elif(math_operation == 2):\n",
    "    print(num1*num2)\n",
    "elif(math_operation == 3):\n",
    "    print(num1/num2)\n",
    "elif(math_operation == 4):\n",
    "    print(num1//num2)\n",
    "else:\n",
    "    print(\"none of the above\")"
   ]
  },
  {
   "cell_type": "code",
   "execution_count": null,
   "id": "8342285b",
   "metadata": {},
   "outputs": [],
   "source": []
  },
  {
   "cell_type": "code",
   "execution_count": null,
   "id": "fb8aecd2",
   "metadata": {},
   "outputs": [],
   "source": []
  }
 ],
 "metadata": {
  "kernelspec": {
   "display_name": "Python 3",
   "language": "python",
   "name": "python3"
  },
  "language_info": {
   "codemirror_mode": {
    "name": "ipython",
    "version": 3
   },
   "file_extension": ".py",
   "mimetype": "text/x-python",
   "name": "python",
   "nbconvert_exporter": "python",
   "pygments_lexer": "ipython3",
   "version": "3.8.8"
  }
 },
 "nbformat": 4,
 "nbformat_minor": 5
}
